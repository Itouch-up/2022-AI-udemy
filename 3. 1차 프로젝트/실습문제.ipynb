{
 "cells": [
  {
   "cell_type": "code",
   "execution_count": 1,
   "metadata": {},
   "outputs": [],
   "source": [
    "from sklearn.datasets import load_boston\n",
    "import pandas as pd\n",
    "from sklearn.model_selection import train_test_split\n",
    "from sklearn.linear_model import LinearRegression\n",
    "from sklearn.metrics import mean_squared_error"
   ]
  },
  {
   "cell_type": "code",
   "execution_count": 2,
   "metadata": {},
   "outputs": [
    {
     "name": "stderr",
     "output_type": "stream",
     "text": [
      "c:\\Users\\zxcsu\\AppData\\Local\\Programs\\Python\\Python310\\lib\\site-packages\\sklearn\\utils\\deprecation.py:87: FutureWarning: Function load_boston is deprecated; `load_boston` is deprecated in 1.0 and will be removed in 1.2.\n",
      "\n",
      "    The Boston housing prices dataset has an ethical problem. You can refer to\n",
      "    the documentation of this function for further details.\n",
      "\n",
      "    The scikit-learn maintainers therefore strongly discourage the use of this\n",
      "    dataset unless the purpose of the code is to study and educate about\n",
      "    ethical issues in data science and machine learning.\n",
      "\n",
      "    In this special case, you can fetch the dataset from the original\n",
      "    source::\n",
      "\n",
      "        import pandas as pd\n",
      "        import numpy as np\n",
      "\n",
      "        data_url = \"http://lib.stat.cmu.edu/datasets/boston\"\n",
      "        raw_df = pd.read_csv(data_url, sep=\"\\s+\", skiprows=22, header=None)\n",
      "        data = np.hstack([raw_df.values[::2, :], raw_df.values[1::2, :2]])\n",
      "        target = raw_df.values[1::2, 2]\n",
      "\n",
      "    Alternative datasets include the California housing dataset (i.e.\n",
      "    :func:`~sklearn.datasets.fetch_california_housing`) and the Ames housing\n",
      "    dataset. You can load the datasets as follows::\n",
      "\n",
      "        from sklearn.datasets import fetch_california_housing\n",
      "        housing = fetch_california_housing()\n",
      "\n",
      "    for the California housing dataset and::\n",
      "\n",
      "        from sklearn.datasets import fetch_openml\n",
      "        housing = fetch_openml(name=\"house_prices\", as_frame=True)\n",
      "\n",
      "    for the Ames housing dataset.\n",
      "  warnings.warn(msg, category=FutureWarning)\n"
     ]
    }
   ],
   "source": [
    "boston_dataset = load_boston()"
   ]
  },
  {
   "cell_type": "code",
   "execution_count": 3,
   "metadata": {},
   "outputs": [],
   "source": [
    "x=pd.DataFrame(boston_dataset.data,columns= boston_dataset.feature_names)\n",
    "y=pd.DataFrame(boston_dataset.target,columns=['MEDV'])"
   ]
  },
  {
   "cell_type": "code",
   "execution_count": 4,
   "metadata": {},
   "outputs": [
    {
     "data": {
      "text/plain": [
       "[        CRIM    ZN  INDUS  CHAS    NOX     RM   AGE     DIS   RAD    TAX  \\\n",
       " 235  0.33045   0.0   6.20   0.0  0.507  6.086  61.5  3.6519   8.0  307.0   \n",
       " 504  0.10959   0.0  11.93   0.0  0.573  6.794  89.3  2.3889   1.0  273.0   \n",
       " 480  5.82401   0.0  18.10   0.0  0.532  6.242  64.7  3.4242  24.0  666.0   \n",
       " 474  8.05579   0.0  18.10   0.0  0.584  5.427  95.4  2.4298  24.0  666.0   \n",
       " 285  0.01096  55.0   2.25   0.0  0.389  6.453  31.9  7.3073   1.0  300.0   \n",
       " ..       ...   ...    ...   ...    ...    ...   ...     ...   ...    ...   \n",
       " 169  2.44953   0.0  19.58   0.0  0.605  6.402  95.2  2.2625   5.0  403.0   \n",
       " 34   1.61282   0.0   8.14   0.0  0.538  6.096  96.9  3.7598   4.0  307.0   \n",
       " 310  2.63548   0.0   9.90   0.0  0.544  4.973  37.8  2.5194   4.0  304.0   \n",
       " 166  2.01019   0.0  19.58   0.0  0.605  7.929  96.2  2.0459   5.0  403.0   \n",
       " 120  0.06899   0.0  25.65   0.0  0.581  5.870  69.7  2.2577   2.0  188.0   \n",
       " \n",
       "      PTRATIO       B  LSTAT  \n",
       " 235     17.4  376.75  10.88  \n",
       " 504     21.0  393.45   6.48  \n",
       " 480     20.2  396.90  10.74  \n",
       " 474     20.2  352.58  18.14  \n",
       " 285     15.3  394.72   8.23  \n",
       " ..       ...     ...    ...  \n",
       " 169     14.7  330.04  11.32  \n",
       " 34      21.0  248.31  20.34  \n",
       " 310     18.4  350.45  12.64  \n",
       " 166     14.7  369.30   3.70  \n",
       " 120     19.1  389.15  14.37  \n",
       " \n",
       " [379 rows x 13 columns],\n",
       "         CRIM    ZN  INDUS  CHAS    NOX     RM   AGE     DIS  RAD    TAX  \\\n",
       " 220  0.35809   0.0   6.20   1.0  0.507  6.951  88.5  2.8617  8.0  307.0   \n",
       " 51   0.04337  21.0   5.64   0.0  0.439  6.115  63.0  6.8147  4.0  243.0   \n",
       " 296  0.05372   0.0  13.92   0.0  0.437  6.549  51.0  5.9604  4.0  289.0   \n",
       " 2    0.02729   0.0   7.07   0.0  0.469  7.185  61.1  4.9671  2.0  242.0   \n",
       " 304  0.05515  33.0   2.18   0.0  0.472  7.236  41.1  4.0220  7.0  222.0   \n",
       " ..       ...   ...    ...   ...    ...    ...   ...     ...  ...    ...   \n",
       " 311  0.79041   0.0   9.90   0.0  0.544  6.122  52.8  2.6403  4.0  304.0   \n",
       " 89   0.05302   0.0   3.41   0.0  0.489  7.079  63.1  3.4145  2.0  270.0   \n",
       " 60   0.14932  25.0   5.13   0.0  0.453  5.741  66.2  7.2254  8.0  284.0   \n",
       " 248  0.16439  22.0   5.86   0.0  0.431  6.433  49.1  7.8265  7.0  330.0   \n",
       " 325  0.19186   0.0   7.38   0.0  0.493  6.431  14.7  5.4159  5.0  287.0   \n",
       " \n",
       "      PTRATIO       B  LSTAT  \n",
       " 220     17.4  391.70   9.71  \n",
       " 51      16.8  393.97   9.43  \n",
       " 296     16.0  392.85   7.39  \n",
       " 2       17.8  392.83   4.03  \n",
       " 304     18.4  393.68   6.93  \n",
       " ..       ...     ...    ...  \n",
       " 311     18.4  396.90   5.98  \n",
       " 89      17.8  396.06   5.70  \n",
       " 60      19.7  395.11  13.15  \n",
       " 248     19.1  374.71   9.52  \n",
       " 325     19.6  393.68   5.08  \n",
       " \n",
       " [127 rows x 13 columns]]"
      ]
     },
     "execution_count": 4,
     "metadata": {},
     "output_type": "execute_result"
    }
   ],
   "source": [
    "train_test_split(x)"
   ]
  },
  {
   "cell_type": "code",
   "execution_count": 5,
   "metadata": {},
   "outputs": [
    {
     "data": {
      "text/plain": [
       "[     MEDV\n",
       " 166  50.0\n",
       " 409  27.5\n",
       " 302  26.4\n",
       " 88   23.6\n",
       " 266  30.7\n",
       " ..    ...\n",
       " 134  15.6\n",
       " 289  24.8\n",
       " 429   9.5\n",
       " 320  23.8\n",
       " 124  18.8\n",
       " \n",
       " [379 rows x 1 columns],\n",
       "      MEDV\n",
       " 379  10.2\n",
       " 364  21.9\n",
       " 96   21.4\n",
       " 175  29.4\n",
       " 107  20.4\n",
       " ..    ...\n",
       " 192  36.4\n",
       " 98   43.8\n",
       " 152  15.3\n",
       " 287  23.2\n",
       " 482  25.0\n",
       " \n",
       " [127 rows x 1 columns]]"
      ]
     },
     "execution_count": 5,
     "metadata": {},
     "output_type": "execute_result"
    }
   ],
   "source": [
    "train_test_split(y)"
   ]
  },
  {
   "cell_type": "code",
   "execution_count": null,
   "metadata": {},
   "outputs": [],
   "source": []
  }
 ],
 "metadata": {
  "kernelspec": {
   "display_name": "Python 3.10.4 64-bit",
   "language": "python",
   "name": "python3"
  },
  "language_info": {
   "codemirror_mode": {
    "name": "ipython",
    "version": 3
   },
   "file_extension": ".py",
   "mimetype": "text/x-python",
   "name": "python",
   "nbconvert_exporter": "python",
   "pygments_lexer": "ipython3",
   "version": "3.10.4"
  },
  "orig_nbformat": 4,
  "vscode": {
   "interpreter": {
    "hash": "723354e55d611ab734ebfae59529bf1adef17a189c6d7848a24d11374cba32c5"
   }
  }
 },
 "nbformat": 4,
 "nbformat_minor": 2
}
