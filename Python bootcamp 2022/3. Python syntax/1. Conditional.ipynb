{
 "cells": [
  {
   "cell_type": "markdown",
   "metadata": {},
   "source": [
    "- if\n",
    "- elif\n",
    "- else"
   ]
  },
  {
   "cell_type": "code",
   "execution_count": 2,
   "metadata": {},
   "outputs": [
    {
     "name": "stdout",
     "output_type": "stream",
     "text": [
      "It's true\n"
     ]
    }
   ],
   "source": [
    "if 3>2:\n",
    "  print(\"It's true\")"
   ]
  },
  {
   "cell_type": "code",
   "execution_count": 4,
   "metadata": {},
   "outputs": [
    {
     "name": "stdout",
     "output_type": "stream",
     "text": [
      "I'm not hungry\n"
     ]
    }
   ],
   "source": [
    "hungry = False\n",
    "\n",
    "if hungry:\n",
    "  print(\"feed me!\")\n",
    "else:\n",
    "  print(\"I'm not hungry\")"
   ]
  },
  {
   "cell_type": "code",
   "execution_count": 6,
   "metadata": {},
   "outputs": [
    {
     "name": "stdout",
     "output_type": "stream",
     "text": [
      "Money is cool!\n"
     ]
    }
   ],
   "source": [
    "location = \"Bank\"\n",
    "\n",
    "if location == \"AutoShop\":\n",
    "  print(\"Cars are cool!\")\n",
    "elif location == \"Bank\":\n",
    "  print(\"Money is cool!\")\n",
    "elif location == \"Store\":\n",
    "  print(\"Welcome to the store!\")\n",
    "else:\n",
    "  print(\"I don't know much.\")"
   ]
  },
  {
   "cell_type": "code",
   "execution_count": null,
   "metadata": {},
   "outputs": [],
   "source": [
    "name = \"Sammy\"\n",
    "\n",
    "if name == \"Frankie\":\n",
    "  print(\"Hello Frankie\")\n",
    "elif name == \"Sammy\":\n",
    "  print(\"Hola Sammy\")\n",
    "else:\n",
    "  print(\"What is your name?\")"
   ]
  }
 ],
 "metadata": {
  "kernelspec": {
   "display_name": "Python 3.10.4 64-bit",
   "language": "python",
   "name": "python3"
  },
  "language_info": {
   "codemirror_mode": {
    "name": "ipython",
    "version": 3
   },
   "file_extension": ".py",
   "mimetype": "text/x-python",
   "name": "python",
   "nbconvert_exporter": "python",
   "pygments_lexer": "ipython3",
   "version": "3.10.4"
  },
  "orig_nbformat": 4,
  "vscode": {
   "interpreter": {
    "hash": "723354e55d611ab734ebfae59529bf1adef17a189c6d7848a24d11374cba32c5"
   }
  }
 },
 "nbformat": 4,
 "nbformat_minor": 2
}
