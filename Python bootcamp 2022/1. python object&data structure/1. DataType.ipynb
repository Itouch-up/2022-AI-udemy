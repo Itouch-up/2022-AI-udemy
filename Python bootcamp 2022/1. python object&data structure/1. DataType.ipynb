{
 "cells": [
  {
   "cell_type": "markdown",
   "metadata": {},
   "source": [
    "Integer | int | 2, 3, 200 등의 정수"
   ]
  },
  {
   "cell_type": "markdown",
   "metadata": {},
   "source": [
    "Floating point | float | 2.3, 65.3, 100.0 등의 부동 소수점"
   ]
  },
  {
   "cell_type": "markdown",
   "metadata": {},
   "source": [
    "Strings | string | 일련된 연속된 문자열"
   ]
  },
  {
   "cell_type": "markdown",
   "metadata": {},
   "source": [
    "Lists | list | 객체의 순서가 정해진 시퀀스"
   ]
  },
  {
   "cell_type": "markdown",
   "metadata": {},
   "source": [
    "Dictionaries | dict | 순서가 지정되지 않은 키-값 페어를 가지는 시퀀스"
   ]
  },
  {
   "cell_type": "markdown",
   "metadata": {},
   "source": [
    "Tuples | tup | 순서가 정해져있으며 변동되지 않는 시퀀스"
   ]
  },
  {
   "cell_type": "markdown",
   "metadata": {},
   "source": [
    "Sets | set | 순서가 지정되지 않으며 키-값 페어를 가지지 않는 시퀀스"
   ]
  },
  {
   "cell_type": "markdown",
   "metadata": {},
   "source": [
    "Booleans | bool | 참과 거짓을 나타내는 논리값"
   ]
  }
 ],
 "metadata": {
  "language_info": {
   "name": "python"
  },
  "orig_nbformat": 4
 },
 "nbformat": 4,
 "nbformat_minor": 2
}
