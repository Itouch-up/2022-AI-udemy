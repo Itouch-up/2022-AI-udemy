{
 "cells": [
  {
   "cell_type": "code",
   "execution_count": null,
   "metadata": {},
   "outputs": [],
   "source": [
    "import random\n",
    "suits = ('Hearts','Diamonds','Spades','Clubs')\n",
    "ranks = ('Two','Three','Four','Five','Six','Seven','Eight','Nine','Ten','Jack','Queen','King','Ace')\n",
    "values = {'Two':2,'Three':3,'Four':4,'Five':5,'Six':6,'Seven':7,'Eight':8,'Nine':9,'Ten':10,'Jack':11,'Queen':12,'King':13,'Ace':14}"
   ]
  },
  {
   "cell_type": "code",
   "execution_count": null,
   "metadata": {},
   "outputs": [],
   "source": [
    "class Card: \n",
    "  def __init__(self,suit,rank):\n",
    "    self.suit = suit\n",
    "    self.rank = rank\n",
    "    self.value = values[rank]\n",
    "    \n",
    "  def __str__(self):\n",
    "    return self.rank+\" of \"+self.suit"
   ]
  },
  {
   "cell_type": "code",
   "execution_count": null,
   "metadata": {},
   "outputs": [],
   "source": [
    "class Deck:\n",
    "  def __init__(self):\n",
    "    self.all_cards=[]\n",
    "    \n",
    "    for suit in suits:\n",
    "      for rank in ranks:\n",
    "        created_card = Card(suit,rank)\n",
    "        self.all_cards.append(created_card)\n",
    "  \n",
    "  def shuffle(self):\n",
    "    \n",
    "    random.shuffle(self.all_cards)\n",
    "  \n",
    "  def deal_one(self):\n",
    "    return self.all_cards.pop()"
   ]
  },
  {
   "cell_type": "code",
   "execution_count": null,
   "metadata": {},
   "outputs": [],
   "source": [
    "class Player:\n",
    "  \n",
    "  def __init__(self,name):\n",
    "    \n",
    "    self.name = name\n",
    "    self.all_cards = []\n",
    "    \n",
    "  def remove_one(self):\n",
    "    return self.all_cards.pop(0)\n",
    "  \n",
    "  def add_cards(self,new_cards):\n",
    "    if type(new_cards) == type([]):\n",
    "      self.all_cards.extend(new_cards)\n",
    "    else:\n",
    "      self.all_cards.append(new_cards)\n",
    "  \n",
    "  def __str__(self):\n",
    "    return f'Player {self.name} has {len(self.all_cards)} cards.'"
   ]
  },
  {
   "cell_type": "code",
   "execution_count": null,
   "metadata": {},
   "outputs": [],
   "source": [
    "new_deck.shuffle()"
   ]
  },
  {
   "cell_type": "code",
   "execution_count": null,
   "metadata": {},
   "outputs": [],
   "source": [
    "new_player = Player('Jack')"
   ]
  },
  {
   "cell_type": "code",
   "execution_count": null,
   "metadata": {},
   "outputs": [],
   "source": [
    "print(new_player)"
   ]
  },
  {
   "cell_type": "code",
   "execution_count": null,
   "metadata": {},
   "outputs": [],
   "source": [
    "print(mycard)"
   ]
  },
  {
   "cell_type": "code",
   "execution_count": null,
   "metadata": {},
   "outputs": [],
   "source": [
    "new_player.add_cards(mycard)"
   ]
  },
  {
   "cell_type": "code",
   "execution_count": null,
   "metadata": {},
   "outputs": [],
   "source": [
    "print(new_player)"
   ]
  },
  {
   "cell_type": "code",
   "execution_count": null,
   "metadata": {},
   "outputs": [],
   "source": [
    "print(new_player.all_cards[0])"
   ]
  },
  {
   "cell_type": "code",
   "execution_count": null,
   "metadata": {},
   "outputs": [],
   "source": [
    "new_player.add_cards([mycard,mycard,mycard])"
   ]
  },
  {
   "cell_type": "code",
   "execution_count": null,
   "metadata": {},
   "outputs": [],
   "source": [
    "print(new_player)"
   ]
  },
  {
   "cell_type": "code",
   "execution_count": null,
   "metadata": {},
   "outputs": [],
   "source": [
    "new_player.remove_one()"
   ]
  },
  {
   "cell_type": "code",
   "execution_count": null,
   "metadata": {},
   "outputs": [],
   "source": [
    "print(new_player)"
   ]
  },
  {
   "cell_type": "code",
   "execution_count": null,
   "metadata": {},
   "outputs": [],
   "source": [
    "player_one = Player(\"One\")\n",
    "player_two = Player(\"Two\")\n",
    "\n",
    "new_deck = Deck()\n",
    "new_deck.shuffle()\n",
    "\n",
    "for x in range(26):\n",
    "  player_one.add_cards(new_deck.deal_one())\n",
    "  player_two.add_cards(new_deck.deal_one())"
   ]
  },
  {
   "cell_type": "code",
   "execution_count": null,
   "metadata": {},
   "outputs": [],
   "source": [
    "game_on = True"
   ]
  },
  {
   "cell_type": "code",
   "execution_count": null,
   "metadata": {},
   "outputs": [],
   "source": [
    "round_num = 0\n",
    "\n",
    "while game_on:\n",
    "  round_num += 1\n",
    "  print(f'Round {round_num}')\n",
    "  \n",
    "  if len(player_one.all_cards) == 0:\n",
    "    print('Player One, out of cards! Player Two Wins!')\n",
    "    game_on = False\n",
    "    break\n",
    "  if len(player_two.all_cards) == 0:\n",
    "    print('Player Two, out of cards! Player One Wins!')\n",
    "    game_on = False\n",
    "    break\n",
    "  \n",
    "  player_one_cards = []\n",
    "  player_one_cards.append(player_one.remove_one())\n",
    "  \n",
    "  player_two_cards = []\n",
    "  player_two_cards.append(player_two.remove_one())\n",
    "  \n",
    "  at_war = True\n",
    "  \n",
    "  while at_war:\n",
    "    if player_one_cards [-1].value > player_two_cards-[1].value:\n",
    "      player_one_add_cards(player_one_cards)\n",
    "      player_one_add_cards(player_two_cards)\n",
    "      \n",
    "      at_war = False\n",
    "    elif player_one_cards [-1].value < player_two_cards-[1].value:\n",
    "      player_two_add_cards(player_one_cards)\n",
    "      player_two_add_cards(player_two_cards)\n",
    "      \n",
    "      at_war = False\n",
    "    else:\n",
    "      print('War')\n",
    "      \n",
    "      if len(player_one.all_cards)<3:\n",
    "        print('Player One unable to declare war')\n",
    "        print('Player Two Wins')\n",
    "        game_on = False\n",
    "        break\n",
    "      elif len(player_two.all_cards)<3:\n",
    "        print('Player Two unable to declare war')\n",
    "        print('Player One Wins')\n",
    "        game_on = False\n",
    "        break\n",
    "      else:\n",
    "        for num in range(3):\n",
    "          player_one_cards.append(player_one.remove_one())\n",
    "          player_two_cards.append(player_two.remove_one())\n"
   ]
  },
  {
   "cell_type": "code",
   "execution_count": null,
   "metadata": {},
   "outputs": [],
   "source": []
  }
 ],
 "metadata": {
  "kernelspec": {
   "display_name": "Python 3.10.4 64-bit",
   "language": "python",
   "name": "python3"
  },
  "language_info": {
   "codemirror_mode": {
    "name": "ipython",
    "version": 3
   },
   "file_extension": ".py",
   "mimetype": "text/x-python",
   "name": "python",
   "nbconvert_exporter": "python",
   "pygments_lexer": "ipython3",
   "version": "3.10.4"
  },
  "orig_nbformat": 4,
  "vscode": {
   "interpreter": {
    "hash": "723354e55d611ab734ebfae59529bf1adef17a189c6d7848a24d11374cba32c5"
   }
  }
 },
 "nbformat": 4,
 "nbformat_minor": 2
}
