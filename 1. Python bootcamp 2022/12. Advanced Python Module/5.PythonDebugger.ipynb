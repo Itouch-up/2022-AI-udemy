{
 "cells": [
  {
   "cell_type": "code",
   "execution_count": 3,
   "metadata": {},
   "outputs": [],
   "source": [
    "x=[1,2,3]\n",
    "y=2\n",
    "z=3\n"
   ]
  },
  {
   "cell_type": "code",
   "execution_count": 4,
   "metadata": {},
   "outputs": [],
   "source": [
    "import pdb"
   ]
  },
  {
   "cell_type": "code",
   "execution_count": 6,
   "metadata": {},
   "outputs": [
    {
     "name": "stdout",
     "output_type": "stream",
     "text": [
      "--Return--\n",
      "None\n",
      "> \u001b[1;32mc:\\users\\zxcsu\\appdata\\local\\temp\\ipykernel_18660\\3358037934.py\u001b[0m(6)\u001b[0;36m<cell line: 6>\u001b[1;34m()\u001b[0m\n",
      "\n",
      "2\n",
      "3\n",
      "1\n",
      "4\n",
      "5\n",
      "6\n",
      "[1, 2, 3]\n",
      "3\n",
      "*** NameError: name 't' is not defined\n",
      "2\n",
      "2\n",
      "[1, 2, 3]\n",
      "[1, 2, 3]\n",
      "[1, 2, 3]\n",
      "2\n",
      "3\n",
      "3\n",
      "3\n",
      "3\n",
      "3\n",
      "3\n",
      "3\n",
      "3\n",
      "[1, 2, 3]\n",
      "[1, 2, 3]\n",
      "[1, 2, 3]\n",
      "[1, 2, 3]\n",
      "[1, 2, 3]\n",
      "[1, 2, 3]\n",
      "--KeyboardInterrupt--\n",
      "\n",
      "KeyboardInterrupt: Interrupted by user\n"
     ]
    },
    {
     "ename": "TypeError",
     "evalue": "unsupported operand type(s) for +: 'int' and 'list'",
     "output_type": "error",
     "traceback": [
      "\u001b[1;31m---------------------------------------------------------------------------\u001b[0m",
      "\u001b[1;31mTypeError\u001b[0m                                 Traceback (most recent call last)",
      "\u001b[1;32mc:\\2022-AI-udemy\\Python bootcamp 2022\\12. Advanced Python Module\\5.PythonDebugger.ipynb 셀 3\u001b[0m in \u001b[0;36m<cell line: 7>\u001b[1;34m()\u001b[0m\n\u001b[0;32m      <a href='vscode-notebook-cell:/c%3A/2022-AI-udemy/Python%20bootcamp%202022/12.%20Advanced%20Python%20Module/5.PythonDebugger.ipynb#W2sZmlsZQ%3D%3D?line=4'>5</a>\u001b[0m result_one \u001b[39m=\u001b[39m y \u001b[39m+\u001b[39m z\n\u001b[0;32m      <a href='vscode-notebook-cell:/c%3A/2022-AI-udemy/Python%20bootcamp%202022/12.%20Advanced%20Python%20Module/5.PythonDebugger.ipynb#W2sZmlsZQ%3D%3D?line=5'>6</a>\u001b[0m pdb\u001b[39m.\u001b[39mset_trace()\n\u001b[1;32m----> <a href='vscode-notebook-cell:/c%3A/2022-AI-udemy/Python%20bootcamp%202022/12.%20Advanced%20Python%20Module/5.PythonDebugger.ipynb#W2sZmlsZQ%3D%3D?line=6'>7</a>\u001b[0m result_two \u001b[39m=\u001b[39m y \u001b[39m+\u001b[39;49m x\n",
      "\u001b[1;31mTypeError\u001b[0m: unsupported operand type(s) for +: 'int' and 'list'"
     ]
    }
   ],
   "source": [
    "x=[1,2,3]\n",
    "y=2\n",
    "z=3\n",
    "\n",
    "result_one = y + z\n",
    "pdb.set_trace()\n",
    "result_two = y + x\n"
   ]
  },
  {
   "cell_type": "code",
   "execution_count": null,
   "metadata": {},
   "outputs": [],
   "source": []
  }
 ],
 "metadata": {
  "kernelspec": {
   "display_name": "Python 3.10.4 64-bit",
   "language": "python",
   "name": "python3"
  },
  "language_info": {
   "codemirror_mode": {
    "name": "ipython",
    "version": 3
   },
   "file_extension": ".py",
   "mimetype": "text/x-python",
   "name": "python",
   "nbconvert_exporter": "python",
   "pygments_lexer": "ipython3",
   "version": "3.10.4"
  },
  "orig_nbformat": 4,
  "vscode": {
   "interpreter": {
    "hash": "723354e55d611ab734ebfae59529bf1adef17a189c6d7848a24d11374cba32c5"
   }
  }
 },
 "nbformat": 4,
 "nbformat_minor": 2
}
